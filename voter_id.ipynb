{
  "nbformat": 4,
  "nbformat_minor": 0,
  "metadata": {
    "colab": {
      "provenance": []
    },
    "kernelspec": {
      "name": "python3",
      "display_name": "Python 3"
    },
    "language_info": {
      "name": "python"
    }
  },
  "cells": [
    {
      "cell_type": "code",
      "execution_count": 1,
      "metadata": {
        "colab": {
          "base_uri": "https://localhost:8080/"
        },
        "id": "owM-n6kPOXX6",
        "outputId": "cd529a35-063a-487d-d7fa-eaaad04ede3c"
      },
      "outputs": [
        {
          "output_type": "stream",
          "name": "stdout",
          "text": [
            "Enter Age : 45\n",
            "You are  Eligible  for Vote.\n"
          ]
        }
      ],
      "source": [
        "\n",
        "age = int(input(\"Enter Age : \"))\n",
        "\n",
        "if age>=18:\n",
        "        status=\"Eligible\"\n",
        "else:\n",
        "    status=\"Not Eligible\"\n",
        "\n",
        "print(\"You are \",status,\" for Vote.\")\n"
      ]
    },
    {
      "cell_type": "code",
      "source": [],
      "metadata": {
        "id": "usVQr14pOlia"
      },
      "execution_count": null,
      "outputs": []
    }
  ]
}